{
  "nbformat": 4,
  "nbformat_minor": 0,
  "metadata": {
    "colab": {
      "name": "Hulu",
      "provenance": [],
      "collapsed_sections": []
    },
    "kernelspec": {
      "name": "python3",
      "display_name": "Python 3"
    }
  },
  "cells": [
    {
      "cell_type": "code",
      "metadata": {
        "id": "ZEPH6hQmFSd-",
        "colab_type": "code",
        "colab": {}
      },
      "source": [
        "import tweepy\n",
        "import pandas as pd\n",
        "import pickle\n",
        "\n",
        "# Authentication\n",
        "consumer_api_key = 'xQJqJI7U49K175YaRxQIfbuQW'\n",
        "consumer_api_secret_key = 'ZHXzjh6Vw5BHF77NJn6hEw8iKpWlc8ZmWmRuLNuyMEpzABzGbT'\n",
        "\n",
        "access_token = '1233446515554705408-t2FeSvxBwSydx0HUKrcdACgqwcPkbF'\n",
        "access_token_secret = '5jrcKajK5ZG5F1C520QrOHydqr8O8Gdr85Hl5BDCyWE4P'\n",
        " \n",
        "auth = tweepy.OAuthHandler(consumer_api_key, consumer_api_secret_key)\n",
        "auth.set_access_token(access_token, access_token_secret)\n",
        "api = tweepy.API(auth)\n",
        "api = tweepy.API(auth, wait_on_rate_limit=True, wait_on_rate_limit_notify=True)\n"
      ],
      "execution_count": 0,
      "outputs": []
    },
    {
      "cell_type": "code",
      "metadata": {
        "id": "Dqp8cJknFU_u",
        "colab_type": "code",
        "colab": {}
      },
      "source": [
        "def getTweets(searchString, df):\n",
        "  for tweet in tweepy.Cursor(api.search, q=searchString, lang='en',since='2020-04-14', until='2020-04-15').items(15000):\n",
        "    df = df.append(pd.Series([tweet.user.screen_name, tweet.created_at, tweet.user.location, tweet.text], index=df.columns), ignore_index=True)\n",
        "  return df"
      ],
      "execution_count": 0,
      "outputs": []
    },
    {
      "cell_type": "code",
      "metadata": {
        "id": "8AvkiKnsFWym",
        "colab_type": "code",
        "colab": {}
      },
      "source": [
        "df3 = pd.DataFrame(columns=['screen_name', 'date_time', 'location', 'text'])"
      ],
      "execution_count": 0,
      "outputs": []
    },
    {
      "cell_type": "code",
      "metadata": {
        "id": "U7MBIMVrFZOL",
        "colab_type": "code",
        "outputId": "add056ac-3ad4-4299-e573-57080f242e10",
        "colab": {
          "base_uri": "https://localhost:8080/",
          "height": 84
        }
      },
      "source": [
        "df3 = getTweets('Hulu', df3)"
      ],
      "execution_count": 0,
      "outputs": [
        {
          "output_type": "stream",
          "text": [
            "Rate limit reached. Sleeping for: 204\n",
            "Rate limit reached. Sleeping for: 857\n",
            "Rate limit reached. Sleeping for: 855\n",
            "Rate limit reached. Sleeping for: 852\n"
          ],
          "name": "stderr"
        }
      ]
    },
    {
      "cell_type": "code",
      "metadata": {
        "id": "9sg8fADJFhix",
        "colab_type": "code",
        "outputId": "fbee3da7-fc44-4bf7-c366-a307f7f31c93",
        "colab": {
          "base_uri": "https://localhost:8080/",
          "height": 34
        }
      },
      "source": [
        "df3.shape"
      ],
      "execution_count": 0,
      "outputs": [
        {
          "output_type": "execute_result",
          "data": {
            "text/plain": [
              "(12875, 4)"
            ]
          },
          "metadata": {
            "tags": []
          },
          "execution_count": 12
        }
      ]
    },
    {
      "cell_type": "code",
      "metadata": {
        "id": "m_IkN_dkQ1tN",
        "colab_type": "code",
        "outputId": "52e10092-adc9-48ed-ae84-932e117b1c09",
        "colab": {
          "base_uri": "https://localhost:8080/",
          "height": 343
        }
      },
      "source": [
        "df3.tail(10)"
      ],
      "execution_count": 0,
      "outputs": [
        {
          "output_type": "execute_result",
          "data": {
            "text/html": [
              "<div>\n",
              "<style scoped>\n",
              "    .dataframe tbody tr th:only-of-type {\n",
              "        vertical-align: middle;\n",
              "    }\n",
              "\n",
              "    .dataframe tbody tr th {\n",
              "        vertical-align: top;\n",
              "    }\n",
              "\n",
              "    .dataframe thead th {\n",
              "        text-align: right;\n",
              "    }\n",
              "</style>\n",
              "<table border=\"1\" class=\"dataframe\">\n",
              "  <thead>\n",
              "    <tr style=\"text-align: right;\">\n",
              "      <th></th>\n",
              "      <th>screen_name</th>\n",
              "      <th>date_time</th>\n",
              "      <th>location</th>\n",
              "      <th>text</th>\n",
              "    </tr>\n",
              "  </thead>\n",
              "  <tbody>\n",
              "    <tr>\n",
              "      <th>12865</th>\n",
              "      <td>CheetoHeffna</td>\n",
              "      <td>2020-04-14 00:00:18</td>\n",
              "      <td></td>\n",
              "      <td>RT @PowersPleasant: Everyone go watch Parasite...</td>\n",
              "    </tr>\n",
              "    <tr>\n",
              "      <th>12866</th>\n",
              "      <td>giannarenaee</td>\n",
              "      <td>2020-04-14 00:00:18</td>\n",
              "      <td>TX</td>\n",
              "      <td>RT @loveydoveysteph: Hulu been hittin better t...</td>\n",
              "    </tr>\n",
              "    <tr>\n",
              "      <th>12867</th>\n",
              "      <td>JonSaltis</td>\n",
              "      <td>2020-04-14 00:00:15</td>\n",
              "      <td>Cleveland, OH</td>\n",
              "      <td>RT @barstooltweetss: HBO's McMillion$ Document...</td>\n",
              "    </tr>\n",
              "    <tr>\n",
              "      <th>12868</th>\n",
              "      <td>Kate4Djt</td>\n",
              "      <td>2020-04-14 00:00:12</td>\n",
              "      <td>Norwood, PA</td>\n",
              "      <td>@TrumpNoodles Cut the cable- stream everything...</td>\n",
              "    </tr>\n",
              "    <tr>\n",
              "      <th>12869</th>\n",
              "      <td>mtzg_neida</td>\n",
              "      <td>2020-04-14 00:00:08</td>\n",
              "      <td>Detroit, Michigan</td>\n",
              "      <td>Watching #911onFOX since I didn’t forgot and d...</td>\n",
              "    </tr>\n",
              "    <tr>\n",
              "      <th>12870</th>\n",
              "      <td>FortuneMagazine</td>\n",
              "      <td>2020-04-14 00:00:06</td>\n",
              "      <td>New York</td>\n",
              "      <td>From Hulu to YouTube TV, Sling, and more—these...</td>\n",
              "    </tr>\n",
              "    <tr>\n",
              "      <th>12871</th>\n",
              "      <td>elijahyab</td>\n",
              "      <td>2020-04-14 00:00:03</td>\n",
              "      <td>Hollywood, FL</td>\n",
              "      <td>@MASHFanficChick @911onFOX I have no tv. I alw...</td>\n",
              "    </tr>\n",
              "    <tr>\n",
              "      <th>12872</th>\n",
              "      <td>angelbabyy69</td>\n",
              "      <td>2020-04-14 00:00:02</td>\n",
              "      <td></td>\n",
              "      <td>why is hulu being a bitch and not showing the ...</td>\n",
              "    </tr>\n",
              "    <tr>\n",
              "      <th>12873</th>\n",
              "      <td>RecentCutbacks</td>\n",
              "      <td>2020-04-14 00:00:02</td>\n",
              "      <td>New York, NY</td>\n",
              "      <td>Pressing play. Time to get LOST on @Hulu. #los...</td>\n",
              "    </tr>\n",
              "    <tr>\n",
              "      <th>12874</th>\n",
              "      <td>GoodTrouble</td>\n",
              "      <td>2020-04-14 00:00:00</td>\n",
              "      <td></td>\n",
              "      <td>There is no denying that drunk Callie has a ce...</td>\n",
              "    </tr>\n",
              "  </tbody>\n",
              "</table>\n",
              "</div>"
            ],
            "text/plain": [
              "           screen_name  ...                                               text\n",
              "12865     CheetoHeffna  ...  RT @PowersPleasant: Everyone go watch Parasite...\n",
              "12866     giannarenaee  ...  RT @loveydoveysteph: Hulu been hittin better t...\n",
              "12867        JonSaltis  ...  RT @barstooltweetss: HBO's McMillion$ Document...\n",
              "12868         Kate4Djt  ...  @TrumpNoodles Cut the cable- stream everything...\n",
              "12869       mtzg_neida  ...  Watching #911onFOX since I didn’t forgot and d...\n",
              "12870  FortuneMagazine  ...  From Hulu to YouTube TV, Sling, and more—these...\n",
              "12871        elijahyab  ...  @MASHFanficChick @911onFOX I have no tv. I alw...\n",
              "12872     angelbabyy69  ...  why is hulu being a bitch and not showing the ...\n",
              "12873   RecentCutbacks  ...  Pressing play. Time to get LOST on @Hulu. #los...\n",
              "12874      GoodTrouble  ...  There is no denying that drunk Callie has a ce...\n",
              "\n",
              "[10 rows x 4 columns]"
            ]
          },
          "metadata": {
            "tags": []
          },
          "execution_count": 13
        }
      ]
    },
    {
      "cell_type": "code",
      "metadata": {
        "id": "lo12Ic7ZZYzK",
        "colab_type": "code",
        "colab": {}
      },
      "source": [
        "df3.to_excel('Hulu15.xlsx',index=False,encoding='utf-8')"
      ],
      "execution_count": 0,
      "outputs": []
    },
    {
      "cell_type": "code",
      "metadata": {
        "id": "8bT9qnBLbqMb",
        "colab_type": "code",
        "colab": {}
      },
      "source": [
        "df1 = pd.read_excel('Hulu.xlsx')\n",
        "df2 = pd.read_excel('Hulu1.xlsx')\n",
        "df3 = pd.read_excel('Hulu2.xlsx')\n",
        "df4 = pd.read_excel('Hulu4.xlsx')"
      ],
      "execution_count": 0,
      "outputs": []
    },
    {
      "cell_type": "code",
      "metadata": {
        "id": "z49YEy9Vb0jM",
        "colab_type": "code",
        "colab": {}
      },
      "source": [
        "df = pd.concat([df1,df2,df3,df4])"
      ],
      "execution_count": 0,
      "outputs": []
    },
    {
      "cell_type": "code",
      "metadata": {
        "id": "5rdDXQ0ab9sF",
        "colab_type": "code",
        "outputId": "aac34b53-b0cd-4844-f4ff-1feefe696c49",
        "colab": {
          "base_uri": "https://localhost:8080/",
          "height": 34
        }
      },
      "source": [
        "df.shape"
      ],
      "execution_count": 0,
      "outputs": [
        {
          "output_type": "execute_result",
          "data": {
            "text/plain": [
              "(24000, 4)"
            ]
          },
          "metadata": {
            "tags": []
          },
          "execution_count": 38
        }
      ]
    },
    {
      "cell_type": "code",
      "metadata": {
        "id": "oxnUBK5RcTs8",
        "colab_type": "code",
        "colab": {}
      },
      "source": [
        "df.to_excel('HuluFinal.xlsx',index=False,encoding='utf-8')"
      ],
      "execution_count": 0,
      "outputs": []
    }
  ]
}