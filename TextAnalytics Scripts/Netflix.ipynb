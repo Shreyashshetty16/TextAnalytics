{
  "nbformat": 4,
  "nbformat_minor": 0,
  "metadata": {
    "colab": {
      "name": "Netflix",
      "provenance": [],
      "collapsed_sections": []
    },
    "kernelspec": {
      "name": "python3",
      "display_name": "Python 3"
    }
  },
  "cells": [
    {
      "cell_type": "code",
      "metadata": {
        "id": "jSMjEHs1Wad2",
        "colab_type": "code",
        "colab": {}
      },
      "source": [
        "import tweepy\n",
        "import pandas as pd\n",
        "import pickle\n",
        "\n",
        "# Authentication\n",
        "consumer_api_key = 'xQJqJI7U49K175YaRxQIfbuQW'\n",
        "consumer_api_secret_key = 'ZHXzjh6Vw5BHF77NJn6hEw8iKpWlc8ZmWmRuLNuyMEpzABzGbT'\n",
        "\n",
        "access_token = '1233446515554705408-t2FeSvxBwSydx0HUKrcdACgqwcPkbF'\n",
        "access_token_secret = '5jrcKajK5ZG5F1C520QrOHydqr8O8Gdr85Hl5BDCyWE4P'\n",
        " \n",
        "auth = tweepy.OAuthHandler(consumer_api_key, consumer_api_secret_key)\n",
        "auth.set_access_token(access_token, access_token_secret)\n",
        "api = tweepy.API(auth)\n",
        "api = tweepy.API(auth, wait_on_rate_limit=True, wait_on_rate_limit_notify=True)\n"
      ],
      "execution_count": 0,
      "outputs": []
    },
    {
      "cell_type": "code",
      "metadata": {
        "id": "M13tZK3ZWdtX",
        "colab_type": "code",
        "colab": {}
      },
      "source": [
        "def getTweets(searchString, df):\n",
        "  for tweet in tweepy.Cursor(api.search, q=searchString, lang='en',since='2020-04-14', until='2020-04-15').items(15000):\n",
        "    df = df.append(pd.Series([tweet.user.screen_name, tweet.created_at, tweet.user.location, tweet.text], index=df.columns), ignore_index=True)\n",
        "  return df"
      ],
      "execution_count": 0,
      "outputs": []
    },
    {
      "cell_type": "code",
      "metadata": {
        "id": "dnx3yGz-Weic",
        "colab_type": "code",
        "colab": {}
      },
      "source": [
        "df = pd.DataFrame(columns=['screen_name', 'date_time', 'location', 'text'])"
      ],
      "execution_count": 0,
      "outputs": []
    },
    {
      "cell_type": "code",
      "metadata": {
        "id": "0dEIUJTSWhxO",
        "colab_type": "code",
        "colab": {}
      },
      "source": [
        "df = getTweets('Netflix', df)"
      ],
      "execution_count": 0,
      "outputs": []
    },
    {
      "cell_type": "code",
      "metadata": {
        "id": "XVZjZ5sTWid5",
        "colab_type": "code",
        "outputId": "096ec790-5420-4ca2-bf11-89cd06d4a6b5",
        "colab": {
          "base_uri": "https://localhost:8080/",
          "height": 34
        }
      },
      "source": [
        "df.shape"
      ],
      "execution_count": 0,
      "outputs": [
        {
          "output_type": "execute_result",
          "data": {
            "text/plain": [
              "(0, 4)"
            ]
          },
          "metadata": {
            "tags": []
          },
          "execution_count": 6
        }
      ]
    },
    {
      "cell_type": "code",
      "metadata": {
        "id": "hFaTwgsImv_R",
        "colab_type": "code",
        "colab": {}
      },
      "source": [
        "df.to_excel('NetflixApril15.xlsx',index=False,encoding='utf-8')"
      ],
      "execution_count": 0,
      "outputs": []
    },
    {
      "cell_type": "code",
      "metadata": {
        "id": "QpvcGqHicrsd",
        "colab_type": "code",
        "outputId": "64dff0c6-1403-4511-e719-e8b5967623b9",
        "colab": {
          "base_uri": "https://localhost:8080/",
          "height": 343
        }
      },
      "source": [
        "df.tail(10)"
      ],
      "execution_count": 0,
      "outputs": [
        {
          "output_type": "execute_result",
          "data": {
            "text/html": [
              "<div>\n",
              "<style scoped>\n",
              "    .dataframe tbody tr th:only-of-type {\n",
              "        vertical-align: middle;\n",
              "    }\n",
              "\n",
              "    .dataframe tbody tr th {\n",
              "        vertical-align: top;\n",
              "    }\n",
              "\n",
              "    .dataframe thead th {\n",
              "        text-align: right;\n",
              "    }\n",
              "</style>\n",
              "<table border=\"1\" class=\"dataframe\">\n",
              "  <thead>\n",
              "    <tr style=\"text-align: right;\">\n",
              "      <th></th>\n",
              "      <th>screen_name</th>\n",
              "      <th>date_time</th>\n",
              "      <th>location</th>\n",
              "      <th>text</th>\n",
              "    </tr>\n",
              "  </thead>\n",
              "  <tbody>\n",
              "    <tr>\n",
              "      <th>14990</th>\n",
              "      <td>unihayadi</td>\n",
              "      <td>2020-04-13 21:40:16</td>\n",
              "      <td></td>\n",
              "      <td>RT @WatchmenID: Anime                         ...</td>\n",
              "    </tr>\n",
              "    <tr>\n",
              "      <th>14991</th>\n",
              "      <td>damienmulley</td>\n",
              "      <td>2020-04-13 21:40:16</td>\n",
              "      <td>Cork, Ireland</td>\n",
              "      <td>Sweetie darling https://t.co/7ynLAJkiLL</td>\n",
              "    </tr>\n",
              "    <tr>\n",
              "      <th>14992</th>\n",
              "      <td>LadyTokala</td>\n",
              "      <td>2020-04-13 21:40:15</td>\n",
              "      <td>Berlin, Deutschland</td>\n",
              "      <td>RT @CalledSyn: The Dragon Prince on Netflix is...</td>\n",
              "    </tr>\n",
              "    <tr>\n",
              "      <th>14993</th>\n",
              "      <td>lemedah</td>\n",
              "      <td>2020-04-13 21:40:15</td>\n",
              "      <td>Brisbane</td>\n",
              "      <td>RT @thecomedybureau: fyi, @Hannahgadsby's next...</td>\n",
              "    </tr>\n",
              "    <tr>\n",
              "      <th>14994</th>\n",
              "      <td>Sahobatobi</td>\n",
              "      <td>2020-04-13 21:40:14</td>\n",
              "      <td>Red Deer, Alberta</td>\n",
              "      <td>@Andrew_Beckler @netflix That is brilliant. Gr...</td>\n",
              "    </tr>\n",
              "    <tr>\n",
              "      <th>14995</th>\n",
              "      <td>FuturehealthB</td>\n",
              "      <td>2020-04-13 21:40:14</td>\n",
              "      <td>Brighton and Hove</td>\n",
              "      <td>RT @dicksonmike: Great to see @TotsCampaign to...</td>\n",
              "    </tr>\n",
              "    <tr>\n",
              "      <th>14996</th>\n",
              "      <td>oliver_magill_</td>\n",
              "      <td>2020-04-13 21:40:13</td>\n",
              "      <td>Morecambe</td>\n",
              "      <td>RT @MollybBoardman: I don’t know how to explai...</td>\n",
              "    </tr>\n",
              "    <tr>\n",
              "      <th>14997</th>\n",
              "      <td>dave1agar</td>\n",
              "      <td>2020-04-13 21:40:13</td>\n",
              "      <td>Toronto, Canada</td>\n",
              "      <td>Here is another fraud scam. Note at the top it...</td>\n",
              "    </tr>\n",
              "    <tr>\n",
              "      <th>14998</th>\n",
              "      <td>2Neex</td>\n",
              "      <td>2020-04-13 21:40:12</td>\n",
              "      <td></td>\n",
              "      <td>RT @2pmsofficial: got bored and did my own ver...</td>\n",
              "    </tr>\n",
              "    <tr>\n",
              "      <th>14999</th>\n",
              "      <td>terserahkmaj</td>\n",
              "      <td>2020-04-13 21:40:12</td>\n",
              "      <td>Bandung, Indonesia</td>\n",
              "      <td>RT @ignacio_aries: Netflix horror movies sugge...</td>\n",
              "    </tr>\n",
              "  </tbody>\n",
              "</table>\n",
              "</div>"
            ],
            "text/plain": [
              "          screen_name  ...                                               text\n",
              "14990       unihayadi  ...  RT @WatchmenID: Anime                         ...\n",
              "14991    damienmulley  ...            Sweetie darling https://t.co/7ynLAJkiLL\n",
              "14992      LadyTokala  ...  RT @CalledSyn: The Dragon Prince on Netflix is...\n",
              "14993         lemedah  ...  RT @thecomedybureau: fyi, @Hannahgadsby's next...\n",
              "14994      Sahobatobi  ...  @Andrew_Beckler @netflix That is brilliant. Gr...\n",
              "14995   FuturehealthB  ...  RT @dicksonmike: Great to see @TotsCampaign to...\n",
              "14996  oliver_magill_  ...  RT @MollybBoardman: I don’t know how to explai...\n",
              "14997       dave1agar  ...  Here is another fraud scam. Note at the top it...\n",
              "14998           2Neex  ...  RT @2pmsofficial: got bored and did my own ver...\n",
              "14999    terserahkmaj  ...  RT @ignacio_aries: Netflix horror movies sugge...\n",
              "\n",
              "[10 rows x 4 columns]"
            ]
          },
          "metadata": {
            "tags": []
          },
          "execution_count": 10
        }
      ]
    }
  ]
}