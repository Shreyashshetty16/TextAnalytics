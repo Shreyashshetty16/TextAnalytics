{
  "nbformat": 4,
  "nbformat_minor": 0,
  "metadata": {
    "colab": {
      "name": "DisneyPlus",
      "provenance": [],
      "collapsed_sections": []
    },
    "kernelspec": {
      "name": "python3",
      "display_name": "Python 3"
    }
  },
  "cells": [
    {
      "cell_type": "code",
      "metadata": {
        "id": "jSMjEHs1Wad2",
        "colab_type": "code",
        "colab": {}
      },
      "source": [
        "import tweepy\n",
        "import pandas as pd\n",
        "import pickle\n",
        "\n",
        "# Authentication\n",
        "consumer_api_key = 'xQJqJI7U49K175YaRxQIfbuQW'\n",
        "consumer_api_secret_key = 'ZHXzjh6Vw5BHF77NJn6hEw8iKpWlc8ZmWmRuLNuyMEpzABzGbT'\n",
        "\n",
        "access_token = '1233446515554705408-t2FeSvxBwSydx0HUKrcdACgqwcPkbF'\n",
        "access_token_secret = '5jrcKajK5ZG5F1C520QrOHydqr8O8Gdr85Hl5BDCyWE4P'\n",
        " \n",
        "auth = tweepy.OAuthHandler(consumer_api_key, consumer_api_secret_key)\n",
        "auth.set_access_token(access_token, access_token_secret)\n",
        "api = tweepy.API(auth)\n",
        "api = tweepy.API(auth, wait_on_rate_limit=True, wait_on_rate_limit_notify=True)\n"
      ],
      "execution_count": 0,
      "outputs": []
    },
    {
      "cell_type": "code",
      "metadata": {
        "id": "M13tZK3ZWdtX",
        "colab_type": "code",
        "colab": {}
      },
      "source": [
        "def getTweets(searchString, df):\n",
        "  for tweet in tweepy.Cursor(api.search, q=searchString, lang='en',since='2020-04-14', until='2020-04-15').items(15000):\n",
        "    df = df.append(pd.Series([tweet.user.screen_name, tweet.created_at, tweet.user.location, tweet.text], index=df.columns), ignore_index=True)\n",
        "  return df"
      ],
      "execution_count": 0,
      "outputs": []
    },
    {
      "cell_type": "code",
      "metadata": {
        "id": "dnx3yGz-Weic",
        "colab_type": "code",
        "colab": {}
      },
      "source": [
        "df1 = pd.DataFrame(columns=['screen_name', 'date_time', 'location', 'text'])"
      ],
      "execution_count": 0,
      "outputs": []
    },
    {
      "cell_type": "code",
      "metadata": {
        "id": "0dEIUJTSWhxO",
        "colab_type": "code",
        "outputId": "6abc81e9-ea0f-4ccc-f5f2-edf9e42474ee",
        "colab": {
          "base_uri": "https://localhost:8080/",
          "height": 50
        }
      },
      "source": [
        "df1 = getTweets('disneyplus', df1)"
      ],
      "execution_count": 0,
      "outputs": [
        {
          "output_type": "stream",
          "text": [
            "Rate limit reached. Sleeping for: 829\n",
            "Rate limit reached. Sleeping for: 834\n"
          ],
          "name": "stderr"
        }
      ]
    },
    {
      "cell_type": "code",
      "metadata": {
        "id": "XVZjZ5sTWid5",
        "colab_type": "code",
        "outputId": "43532faa-4f7f-48da-ac85-58825647a9f4",
        "colab": {
          "base_uri": "https://localhost:8080/",
          "height": 34
        }
      },
      "source": [
        "df1.shape"
      ],
      "execution_count": 0,
      "outputs": [
        {
          "output_type": "execute_result",
          "data": {
            "text/plain": [
              "(7407, 4)"
            ]
          },
          "metadata": {
            "tags": []
          },
          "execution_count": 5
        }
      ]
    },
    {
      "cell_type": "code",
      "metadata": {
        "id": "hFaTwgsImv_R",
        "colab_type": "code",
        "colab": {}
      },
      "source": [
        "df1.to_excel('DisneyPlus15.xlsx',index=False,encoding='utf-8')"
      ],
      "execution_count": 0,
      "outputs": []
    }
  ]
}