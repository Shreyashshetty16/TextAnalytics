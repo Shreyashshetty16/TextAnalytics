{
  "nbformat": 4,
  "nbformat_minor": 0,
  "metadata": {
    "colab": {
      "name": "PrimeVideo",
      "provenance": [],
      "collapsed_sections": []
    },
    "kernelspec": {
      "name": "python3",
      "display_name": "Python 3"
    }
  },
  "cells": [
    {
      "cell_type": "code",
      "metadata": {
        "id": "ZEPH6hQmFSd-",
        "colab_type": "code",
        "colab": {}
      },
      "source": [
        "import tweepy\n",
        "import pandas as pd\n",
        "import pickle\n",
        "\n",
        "# Authentication\n",
        "consumer_api_key = 'xQJqJI7U49K175YaRxQIfbuQW'\n",
        "consumer_api_secret_key = 'ZHXzjh6Vw5BHF77NJn6hEw8iKpWlc8ZmWmRuLNuyMEpzABzGbT'\n",
        "\n",
        "access_token = '1233446515554705408-t2FeSvxBwSydx0HUKrcdACgqwcPkbF'\n",
        "access_token_secret = '5jrcKajK5ZG5F1C520QrOHydqr8O8Gdr85Hl5BDCyWE4P'\n",
        " \n",
        "auth = tweepy.OAuthHandler(consumer_api_key, consumer_api_secret_key)\n",
        "auth.set_access_token(access_token, access_token_secret)\n",
        "api = tweepy.API(auth)\n",
        "api = tweepy.API(auth, wait_on_rate_limit=True, wait_on_rate_limit_notify=True)\n"
      ],
      "execution_count": 0,
      "outputs": []
    },
    {
      "cell_type": "code",
      "metadata": {
        "id": "Dqp8cJknFU_u",
        "colab_type": "code",
        "colab": {}
      },
      "source": [
        "def getTweets(searchString, df):\n",
        "  for tweet in tweepy.Cursor(api.search, q=searchString, lang='en',since='2020-04-14', until='2020-04-15').items(15000):\n",
        "    df = df.append(pd.Series([tweet.user.screen_name, tweet.created_at, tweet.user.location, tweet.text], index=df.columns), ignore_index=True)\n",
        "  return df"
      ],
      "execution_count": 0,
      "outputs": []
    },
    {
      "cell_type": "code",
      "metadata": {
        "id": "8AvkiKnsFWym",
        "colab_type": "code",
        "colab": {}
      },
      "source": [
        "df2 = pd.DataFrame(columns=['screen_name', 'date_time', 'location', 'text'])"
      ],
      "execution_count": 0,
      "outputs": []
    },
    {
      "cell_type": "code",
      "metadata": {
        "id": "U7MBIMVrFZOL",
        "colab_type": "code",
        "outputId": "f08fae6c-2e10-4889-9911-4c0a9e111158",
        "colab": {
          "base_uri": "https://localhost:8080/",
          "height": 34
        }
      },
      "source": [
        "df2 = getTweets('Primevideo', df2)"
      ],
      "execution_count": 0,
      "outputs": [
        {
          "output_type": "stream",
          "text": [
            "Rate limit reached. Sleeping for: 836\n"
          ],
          "name": "stderr"
        }
      ]
    },
    {
      "cell_type": "code",
      "metadata": {
        "id": "9sg8fADJFhix",
        "colab_type": "code",
        "outputId": "6d0b79ca-9797-489a-af25-7fed7ae0053a",
        "colab": {
          "base_uri": "https://localhost:8080/",
          "height": 34
        }
      },
      "source": [
        "df2.shape"
      ],
      "execution_count": 0,
      "outputs": [
        {
          "output_type": "execute_result",
          "data": {
            "text/plain": [
              "(4615, 4)"
            ]
          },
          "metadata": {
            "tags": []
          },
          "execution_count": 6
        }
      ]
    },
    {
      "cell_type": "code",
      "metadata": {
        "id": "m_IkN_dkQ1tN",
        "colab_type": "code",
        "outputId": "d541476c-3c6f-41a4-bdc1-2e1935c85a4b",
        "colab": {
          "base_uri": "https://localhost:8080/",
          "height": 343
        }
      },
      "source": [
        "df2.head(10)"
      ],
      "execution_count": 0,
      "outputs": [
        {
          "output_type": "execute_result",
          "data": {
            "text/html": [
              "<div>\n",
              "<style scoped>\n",
              "    .dataframe tbody tr th:only-of-type {\n",
              "        vertical-align: middle;\n",
              "    }\n",
              "\n",
              "    .dataframe tbody tr th {\n",
              "        vertical-align: top;\n",
              "    }\n",
              "\n",
              "    .dataframe thead th {\n",
              "        text-align: right;\n",
              "    }\n",
              "</style>\n",
              "<table border=\"1\" class=\"dataframe\">\n",
              "  <thead>\n",
              "    <tr style=\"text-align: right;\">\n",
              "      <th></th>\n",
              "      <th>screen_name</th>\n",
              "      <th>date_time</th>\n",
              "      <th>location</th>\n",
              "      <th>text</th>\n",
              "    </tr>\n",
              "  </thead>\n",
              "  <tbody>\n",
              "    <tr>\n",
              "      <th>0</th>\n",
              "      <td>LoisMil91809392</td>\n",
              "      <td>2020-04-13 23:59:48</td>\n",
              "      <td></td>\n",
              "      <td>RT @PrimeVideo: We'll be over here daydreaming...</td>\n",
              "    </tr>\n",
              "    <tr>\n",
              "      <th>1</th>\n",
              "      <td>Mrreg6</td>\n",
              "      <td>2020-04-13 23:59:41</td>\n",
              "      <td>Gowachin Homeworld</td>\n",
              "      <td>RT @Cernovich: Victor  Salva is a convicted pe...</td>\n",
              "    </tr>\n",
              "    <tr>\n",
              "      <th>2</th>\n",
              "      <td>lcsmith65</td>\n",
              "      <td>2020-04-13 23:59:25</td>\n",
              "      <td>Florida, USA</td>\n",
              "      <td>RT @Cernovich: Victor  Salva is a convicted pe...</td>\n",
              "    </tr>\n",
              "    <tr>\n",
              "      <th>3</th>\n",
              "      <td>WhighamPhoto</td>\n",
              "      <td>2020-04-13 23:59:10</td>\n",
              "      <td>Nashville, Tennessee</td>\n",
              "      <td>RT @MarcLobliner: @PrimeVideo , any explanatio...</td>\n",
              "    </tr>\n",
              "    <tr>\n",
              "      <th>4</th>\n",
              "      <td>SanditonStan</td>\n",
              "      <td>2020-04-13 23:58:40</td>\n",
              "      <td></td>\n",
              "      <td>RT @lucy4548108: Right after he said \"a wife s...</td>\n",
              "    </tr>\n",
              "    <tr>\n",
              "      <th>5</th>\n",
              "      <td>lrg10307368</td>\n",
              "      <td>2020-04-13 23:58:24</td>\n",
              "      <td>Saskatoon, Saskatchewan</td>\n",
              "      <td>@Cernovich @PrimeVideo @AmazonHelp That’s fucked</td>\n",
              "    </tr>\n",
              "    <tr>\n",
              "      <th>6</th>\n",
              "      <td>WhighamPhoto</td>\n",
              "      <td>2020-04-13 23:58:20</td>\n",
              "      <td>Nashville, Tennessee</td>\n",
              "      <td>RT @Cernovich: I love how people are like, \"Wo...</td>\n",
              "    </tr>\n",
              "    <tr>\n",
              "      <th>7</th>\n",
              "      <td>ToddDuke</td>\n",
              "      <td>2020-04-13 23:57:49</td>\n",
              "      <td>Stonecreek, Ohio</td>\n",
              "      <td>@audible_com @netflix @disneyplus @hulu and @P...</td>\n",
              "    </tr>\n",
              "    <tr>\n",
              "      <th>8</th>\n",
              "      <td>scottisbell_</td>\n",
              "      <td>2020-04-13 23:57:47</td>\n",
              "      <td>Boston, MA</td>\n",
              "      <td>RT @Cernovich: I love how people are like, \"Wo...</td>\n",
              "    </tr>\n",
              "    <tr>\n",
              "      <th>9</th>\n",
              "      <td>VuelvoHappy</td>\n",
              "      <td>2020-04-13 23:57:43</td>\n",
              "      <td>Texas, USA</td>\n",
              "      <td>@dustinrhodes @PrimeVideo Empire of the Sun ov...</td>\n",
              "    </tr>\n",
              "  </tbody>\n",
              "</table>\n",
              "</div>"
            ],
            "text/plain": [
              "       screen_name  ...                                               text\n",
              "0  LoisMil91809392  ...  RT @PrimeVideo: We'll be over here daydreaming...\n",
              "1           Mrreg6  ...  RT @Cernovich: Victor  Salva is a convicted pe...\n",
              "2        lcsmith65  ...  RT @Cernovich: Victor  Salva is a convicted pe...\n",
              "3     WhighamPhoto  ...  RT @MarcLobliner: @PrimeVideo , any explanatio...\n",
              "4     SanditonStan  ...  RT @lucy4548108: Right after he said \"a wife s...\n",
              "5      lrg10307368  ...   @Cernovich @PrimeVideo @AmazonHelp That’s fucked\n",
              "6     WhighamPhoto  ...  RT @Cernovich: I love how people are like, \"Wo...\n",
              "7         ToddDuke  ...  @audible_com @netflix @disneyplus @hulu and @P...\n",
              "8     scottisbell_  ...  RT @Cernovich: I love how people are like, \"Wo...\n",
              "9      VuelvoHappy  ...  @dustinrhodes @PrimeVideo Empire of the Sun ov...\n",
              "\n",
              "[10 rows x 4 columns]"
            ]
          },
          "metadata": {
            "tags": []
          },
          "execution_count": 6
        }
      ]
    },
    {
      "cell_type": "code",
      "metadata": {
        "id": "lo12Ic7ZZYzK",
        "colab_type": "code",
        "colab": {}
      },
      "source": [
        "df2.to_excel('PrimeVideo15.xlsx',index=False,encoding='utf-8')"
      ],
      "execution_count": 0,
      "outputs": []
    }
  ]
}